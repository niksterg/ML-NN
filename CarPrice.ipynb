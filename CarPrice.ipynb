{
 "cells": [
  {
   "cell_type": "code",
   "execution_count": 1,
   "id": "3f4c7592-44d6-437a-aef5-781db818095d",
   "metadata": {},
   "outputs": [],
   "source": [
    "import pandas as pd\n",
    "import numpy as np\n",
    "import matplotlib.pylab as plt\n",
    "from sklearn.preprocessing import StandardScaler\n",
    "from sklearn.model_selection import train_test_split\n",
    "from keras.models import Sequential\n",
    "from keras.layers import Dense\n",
    "\n",
    "# To remove the scientific notation from numpy arrays\n",
    "np.set_printoptions(suppress=True)"
   ]
  },
  {
   "cell_type": "markdown",
   "id": "926ba585-c283-4838-bd8c-d7a05646bec8",
   "metadata": {},
   "source": [
    "### IMPORT DATASET"
   ]
  },
  {
   "cell_type": "code",
   "execution_count": 2,
   "id": "41cdec01-1d09-481c-ba14-c357971c2a09",
   "metadata": {},
   "outputs": [
    {
     "data": {
      "text/html": [
       "<div>\n",
       "<style scoped>\n",
       "    .dataframe tbody tr th:only-of-type {\n",
       "        vertical-align: middle;\n",
       "    }\n",
       "\n",
       "    .dataframe tbody tr th {\n",
       "        vertical-align: top;\n",
       "    }\n",
       "\n",
       "    .dataframe thead th {\n",
       "        text-align: right;\n",
       "    }\n",
       "</style>\n",
       "<table border=\"1\" class=\"dataframe\">\n",
       "  <thead>\n",
       "    <tr style=\"text-align: right;\">\n",
       "      <th></th>\n",
       "      <th>Age</th>\n",
       "      <th>KM</th>\n",
       "      <th>Weight</th>\n",
       "      <th>HP</th>\n",
       "      <th>MetColor</th>\n",
       "      <th>CC</th>\n",
       "      <th>Doors</th>\n",
       "      <th>Price</th>\n",
       "    </tr>\n",
       "  </thead>\n",
       "  <tbody>\n",
       "    <tr>\n",
       "      <th>0</th>\n",
       "      <td>23.0</td>\n",
       "      <td>46986</td>\n",
       "      <td>1165.0</td>\n",
       "      <td>90</td>\n",
       "      <td>1</td>\n",
       "      <td>2000.0</td>\n",
       "      <td>3</td>\n",
       "      <td>13500</td>\n",
       "    </tr>\n",
       "    <tr>\n",
       "      <th>1</th>\n",
       "      <td>23.0</td>\n",
       "      <td>72937</td>\n",
       "      <td>1165.0</td>\n",
       "      <td>90</td>\n",
       "      <td>1</td>\n",
       "      <td>2000.0</td>\n",
       "      <td>3</td>\n",
       "      <td>13750</td>\n",
       "    </tr>\n",
       "    <tr>\n",
       "      <th>2</th>\n",
       "      <td>24.0</td>\n",
       "      <td>41711</td>\n",
       "      <td>1165.0</td>\n",
       "      <td>90</td>\n",
       "      <td>1</td>\n",
       "      <td>2000.0</td>\n",
       "      <td>3</td>\n",
       "      <td>13950</td>\n",
       "    </tr>\n",
       "    <tr>\n",
       "      <th>3</th>\n",
       "      <td>26.0</td>\n",
       "      <td>48000</td>\n",
       "      <td>1165.0</td>\n",
       "      <td>90</td>\n",
       "      <td>0</td>\n",
       "      <td>2000.0</td>\n",
       "      <td>3</td>\n",
       "      <td>14950</td>\n",
       "    </tr>\n",
       "    <tr>\n",
       "      <th>4</th>\n",
       "      <td>30.0</td>\n",
       "      <td>38500</td>\n",
       "      <td>1170.0</td>\n",
       "      <td>90</td>\n",
       "      <td>0</td>\n",
       "      <td>2000.0</td>\n",
       "      <td>3</td>\n",
       "      <td>13750</td>\n",
       "    </tr>\n",
       "  </tbody>\n",
       "</table>\n",
       "</div>"
      ],
      "text/plain": [
       "    Age     KM  Weight  HP  MetColor      CC  Doors  Price\n",
       "0  23.0  46986  1165.0  90         1  2000.0      3  13500\n",
       "1  23.0  72937  1165.0  90         1  2000.0      3  13750\n",
       "2  24.0  41711  1165.0  90         1  2000.0      3  13950\n",
       "3  26.0  48000  1165.0  90         0  2000.0      3  14950\n",
       "4  30.0  38500  1170.0  90         0  2000.0      3  13750"
      ]
     },
     "execution_count": 2,
     "metadata": {},
     "output_type": "execute_result"
    }
   ],
   "source": [
    "dataset = pd.read_pickle('CarPricesData.pkl')\n",
    "dataset.head()"
   ]
  },
  {
   "cell_type": "markdown",
   "id": "b92472c4-eea2-4506-b3f5-3daed8aea5a2",
   "metadata": {},
   "source": [
    "### Separate Predictor Variables from Target Variable "
   ]
  },
  {
   "cell_type": "code",
   "execution_count": 3,
   "id": "602c5c6d-0f3c-46c0-b07f-d6cb0f0e5f3c",
   "metadata": {},
   "outputs": [],
   "source": [
    "Predictors = ['Age', 'KM', 'Weight', 'HP', 'MetColor', 'CC', 'Doors']\n",
    "Target = ['Price']\n",
    "\n",
    "X = dataset[Predictors].values\n",
    "y = dataset[Target].values"
   ]
  },
  {
   "cell_type": "code",
   "execution_count": 4,
   "id": "61e7728c-2a52-48eb-8921-a6d39ed9de5c",
   "metadata": {},
   "outputs": [
    {
     "data": {
      "text/plain": [
       "(1435, 7)"
      ]
     },
     "metadata": {},
     "output_type": "display_data"
    },
    {
     "data": {
      "text/plain": [
       "(1435, 1)"
      ]
     },
     "metadata": {},
     "output_type": "display_data"
    }
   ],
   "source": [
    "display(X.shape, y.shape)"
   ]
  },
  {
   "cell_type": "markdown",
   "id": "0e186c23-23c0-4647-8156-a1d20e159f11",
   "metadata": {},
   "source": [
    "### Histogram of target values"
   ]
  },
  {
   "cell_type": "code",
   "execution_count": 5,
   "id": "9f0230e0-c172-4a39-b89f-4e971b5b05c8",
   "metadata": {},
   "outputs": [
    {
     "data": {
      "image/png": "[encoded data removed]",
      "text/plain": [
       "<Figure size 432x288 with 1 Axes>"
      ]
     },
     "metadata": {
      "needs_background": "light"
     },
     "output_type": "display_data"
    }
   ],
   "source": [
    "count, bins, ignored = plt.hist(y, 100)\n",
    "plt.show()"
   ]
  },
  {
   "cell_type": "markdown",
   "id": "3280b645-dcd5-49d6-bc8a-6b8c196c1df3",
   "metadata": {},
   "source": [
    "### Scale predictors and target values"
   ]
  },
  {
   "cell_type": "code",
   "execution_count": 6,
   "id": "3d5d4684-9d62-4064-a333-8564629cc528",
   "metadata": {},
   "outputs": [],
   "source": [
    "PredictorScaler = StandardScaler()\n",
    "Xscaled = PredictorScaler.fit_transform(X)\n",
    "\n",
    "TargetScaler = StandardScaler()\n",
    "yscaled = TargetScaler.fit_transform(y)"
   ]
  },
  {
   "cell_type": "code",
   "execution_count": 7,
   "id": "f7ddcc51-e795-4068-9f6d-72a898556c6a",
   "metadata": {},
   "outputs": [
    {
     "data": {
      "image/png": "[encoded data removed]",
      "text/plain": [
       "<Figure size 432x288 with 1 Axes>"
      ]
     },
     "metadata": {
      "needs_background": "light"
     },
     "output_type": "display_data"
    }
   ],
   "source": [
    "count, bins, ignored = plt.hist(yscaled, 100)\n",
    "\n",
    "plt.show()"
   ]
  },
  {
   "cell_type": "markdown",
   "id": "07ffa49b-b817-4384-8ea9-c410a12d768f",
   "metadata": {},
   "source": [
    "### SPLIT DATASET INTO TRAINING AND TESTING SETS"
   ]
  },
  {
   "cell_type": "code",
   "execution_count": 8,
   "id": "b581f6a2-eb2e-492c-87ae-4813f60edcc3",
   "metadata": {},
   "outputs": [
    {
     "name": "stdout",
     "output_type": "stream",
     "text": [
      "(1004, 7)\n",
      "(1004, 1)\n",
      "(431, 7)\n",
      "(431, 1)\n"
     ]
    }
   ],
   "source": [
    "X_train, X_test, y_train, y_test = train_test_split(Xscaled, yscaled, test_size=0.3, random_state=42)\n",
    " \n",
    "# Quick sanity check with the shapes of Training and testing datasets\n",
    "print(X_train.shape)\n",
    "print(y_train.shape)\n",
    "print(X_test.shape)\n",
    "print(y_test.shape)"
   ]
  },
  {
   "cell_type": "markdown",
   "id": "174c99ce-e7f0-4349-adbf-db6c032c91c8",
   "metadata": {},
   "source": [
    "### Creating Artificial Neural Network model"
   ]
  },
  {
   "cell_type": "code",
   "execution_count": 9,
   "id": "cf26bba4-68aa-4817-a608-a7c9e85eace7",
   "metadata": {},
   "outputs": [],
   "source": [
    "# create ANN model\n",
    "model = Sequential()\n",
    "\n",
    "neurons = 5\n",
    "\n",
    "# Defining the Input layer and FIRST hidden layer, both are same!\n",
    "model.add( Dense(units = neurons, input_dim = 7, kernel_initializer = 'normal', activation = 'relu') )\n",
    " \n",
    "# Defining the Second layer of the model\n",
    "# after the first layer we don't have to specify input_dim as keras configure it automatically\n",
    "model.add( Dense(units = neurons, kernel_initializer = 'normal', activation='tanh') )\n",
    " \n",
    "# The output neuron is a single fully connected node \n",
    "# Since we will be predicting a single number\n",
    "model.add( Dense(1, kernel_initializer='normal') )\n",
    "\n",
    "# Compiling the model\n",
    "model.compile(loss = 'mean_squared_error', optimizer = 'adam')\n",
    "\n",
    "# Choose batch size and number of training epochs\n",
    "\n",
    "batch_size = 50\n",
    "epochs = 100\n",
    "\n",
    "# Fitting the ANN to the Training set\n",
    "history = model.fit(X_train, y_train, validation_split=0.33, batch_size = batch_size, epochs = epochs, verbose=0)"
   ]
  },
  {
   "cell_type": "code",
   "execution_count": 10,
   "id": "e22d9c58-ca70-4a89-adbb-3754ae24eb1c",
   "metadata": {},
   "outputs": [
    {
     "data": {
      "image/png": "[encoded data removed]",
      "text/plain": [
       "<Figure size 432x288 with 1 Axes>"
      ]
     },
     "metadata": {
      "needs_background": "light"
     },
     "output_type": "display_data"
    }
   ],
   "source": [
    "plt.plot(history.history['loss'])\n",
    "plt.plot(history.history['val_loss'])\n",
    "plt.title('model loss')\n",
    "plt.ylabel('loss')\n",
    "plt.xlabel('epoch')\n",
    "plt.legend(['train', 'val'], loc='upper right')\n",
    "plt.show()"
   ]
  },
  {
   "cell_type": "code",
   "execution_count": 11,
   "id": "3d0efbe4-1aee-4311-90d4-83820bd43628",
   "metadata": {},
   "outputs": [
    {
     "data": {
      "text/html": [
       "<div>\n",
       "<style scoped>\n",
       "    .dataframe tbody tr th:only-of-type {\n",
       "        vertical-align: middle;\n",
       "    }\n",
       "\n",
       "    .dataframe tbody tr th {\n",
       "        vertical-align: top;\n",
       "    }\n",
       "\n",
       "    .dataframe thead th {\n",
       "        text-align: right;\n",
       "    }\n",
       "</style>\n",
       "<table border=\"1\" class=\"dataframe\">\n",
       "  <thead>\n",
       "    <tr style=\"text-align: right;\">\n",
       "      <th></th>\n",
       "      <th>Age</th>\n",
       "      <th>KM</th>\n",
       "      <th>Weight</th>\n",
       "      <th>HP</th>\n",
       "      <th>MetColor</th>\n",
       "      <th>CC</th>\n",
       "      <th>Doors</th>\n",
       "      <th>Price</th>\n",
       "      <th>PredictedPrice</th>\n",
       "      <th>APE</th>\n",
       "    </tr>\n",
       "  </thead>\n",
       "  <tbody>\n",
       "    <tr>\n",
       "      <th>0</th>\n",
       "      <td>59.0</td>\n",
       "      <td>80430.0</td>\n",
       "      <td>1065.0</td>\n",
       "      <td>110.0</td>\n",
       "      <td>1.0</td>\n",
       "      <td>1600.0</td>\n",
       "      <td>3.0</td>\n",
       "      <td>9950.0</td>\n",
       "      <td>9899.631836</td>\n",
       "      <td>0.506213</td>\n",
       "    </tr>\n",
       "    <tr>\n",
       "      <th>1</th>\n",
       "      <td>62.0</td>\n",
       "      <td>64797.0</td>\n",
       "      <td>1075.0</td>\n",
       "      <td>110.0</td>\n",
       "      <td>1.0</td>\n",
       "      <td>1600.0</td>\n",
       "      <td>5.0</td>\n",
       "      <td>7995.0</td>\n",
       "      <td>9978.729492</td>\n",
       "      <td>24.812126</td>\n",
       "    </tr>\n",
       "    <tr>\n",
       "      <th>2</th>\n",
       "      <td>59.0</td>\n",
       "      <td>130000.0</td>\n",
       "      <td>1135.0</td>\n",
       "      <td>72.0</td>\n",
       "      <td>1.0</td>\n",
       "      <td>2000.0</td>\n",
       "      <td>4.0</td>\n",
       "      <td>7500.0</td>\n",
       "      <td>9023.710938</td>\n",
       "      <td>20.316146</td>\n",
       "    </tr>\n",
       "    <tr>\n",
       "      <th>3</th>\n",
       "      <td>69.0</td>\n",
       "      <td>42800.0</td>\n",
       "      <td>1050.0</td>\n",
       "      <td>110.0</td>\n",
       "      <td>1.0</td>\n",
       "      <td>1600.0</td>\n",
       "      <td>3.0</td>\n",
       "      <td>9950.0</td>\n",
       "      <td>9235.823242</td>\n",
       "      <td>7.177656</td>\n",
       "    </tr>\n",
       "    <tr>\n",
       "      <th>4</th>\n",
       "      <td>65.0</td>\n",
       "      <td>47014.0</td>\n",
       "      <td>1015.0</td>\n",
       "      <td>86.0</td>\n",
       "      <td>1.0</td>\n",
       "      <td>1300.0</td>\n",
       "      <td>3.0</td>\n",
       "      <td>8950.0</td>\n",
       "      <td>8909.121094</td>\n",
       "      <td>0.456748</td>\n",
       "    </tr>\n",
       "  </tbody>\n",
       "</table>\n",
       "</div>"
      ],
      "text/plain": [
       "    Age        KM  Weight     HP  MetColor      CC  Doors   Price  \\\n",
       "0  59.0   80430.0  1065.0  110.0       1.0  1600.0    3.0  9950.0   \n",
       "1  62.0   64797.0  1075.0  110.0       1.0  1600.0    5.0  7995.0   \n",
       "2  59.0  130000.0  1135.0   72.0       1.0  2000.0    4.0  7500.0   \n",
       "3  69.0   42800.0  1050.0  110.0       1.0  1600.0    3.0  9950.0   \n",
       "4  65.0   47014.0  1015.0   86.0       1.0  1300.0    3.0  8950.0   \n",
       "\n",
       "   PredictedPrice        APE  \n",
       "0     9899.631836   0.506213  \n",
       "1     9978.729492  24.812126  \n",
       "2     9023.710938  20.316146  \n",
       "3     9235.823242   7.177656  \n",
       "4     8909.121094   0.456748  "
      ]
     },
     "execution_count": 11,
     "metadata": {},
     "output_type": "execute_result"
    }
   ],
   "source": [
    "# Generating Predictions on testing data\n",
    "Predictions_scaled = model.predict(X_test)\n",
    "\n",
    "# Scaling the test data back to original scale\n",
    "Test_Data = PredictorScaler.inverse_transform(X_test)\n",
    "\n",
    "# Scaling the y_test Price data back to original price scale\n",
    "y_test_orig=TargetScaler.inverse_transform(y_test)\n",
    "\n",
    "# Scaling the predicted Price data back to original price scale\n",
    "Predictions = TargetScaler.inverse_transform(Predictions_scaled)\n",
    "\n",
    "# Create table with test data and predictions\n",
    "TestingData = pd.DataFrame( data = Test_Data, columns = Predictors)\n",
    "TestingData['Price'] = y_test_orig\n",
    "TestingData['PredictedPrice'] = Predictions\n",
    "\n",
    "# Computing the absolute percent error\n",
    "APE = 100*(abs( (TestingData['Price']-TestingData['PredictedPrice'])/TestingData['Price']) )\n",
    "TestingData['APE']=APE\n",
    "\n",
    "TestingData.head()"
   ]
  },
  {
   "cell_type": "code",
   "execution_count": 17,
   "id": "25fa3b1f-f8cd-4b6e-930c-c77cf96a459f",
   "metadata": {},
   "outputs": [
    {
     "name": "stdout",
     "output_type": "stream",
     "text": [
      "MAPE: 8.974684082319326 accuracy: 91.02531591768067\n"
     ]
    }
   ],
   "source": [
    "# Compute MAPE and accuracy\n",
    "\n",
    "MAPE = np.mean(TestingData['APE'])\n",
    "accuracy = 100 - MAPE\n",
    "\n",
    "print('MAPE:', MAPE, 'accuracy:', accuracy)"
   ]
  },
  {
   "cell_type": "code",
   "execution_count": 14,
   "id": "dc6687f7-bb63-4da4-a033-b87c8775b657",
   "metadata": {},
   "outputs": [
    {
     "data": {
      "image/png": "[encoded data removed]",
      "text/plain": [
       "<Figure size 432x288 with 1 Axes>"
      ]
     },
     "metadata": {
      "needs_background": "light"
     },
     "output_type": "display_data"
    }
   ],
   "source": [
    "count, bins, ignored = plt.hist(y_test_orig, 100)\n",
    "count, bins, ignored = plt.hist(Predictions, 100)\n",
    "plt.show()"
   ]
  },
  {
   "cell_type": "code",
   "execution_count": 15,
   "id": "20df28ea-c127-451b-b37e-ac07ed5cae97",
   "metadata": {},
   "outputs": [],
   "source": [
    "rel_error = (Predictions - y_test_orig)/y_test_orig"
   ]
  },
  {
   "cell_type": "code",
   "execution_count": 16,
   "id": "4a8212b7-1e2e-4d32-b5df-786e9338ed79",
   "metadata": {},
   "outputs": [
    {
     "data": {
      "image/png": "[encoded data removed]",
      "text/plain": [
       "<Figure size 432x288 with 1 Axes>"
      ]
     },
     "metadata": {
      "needs_background": "light"
     },
     "output_type": "display_data"
    }
   ],
   "source": [
    "count, bins, ignored = plt.hist(rel_error, 100)\n",
    "plt.show()"
   ]
  },
  {
   "cell_type": "code",
   "execution_count": null,
   "id": "b425797a-b798-4655-80f0-a2129a5e0fe7",
   "metadata": {},
   "outputs": [],
   "source": []
  }
 ],
 "metadata": {
  "kernelspec": {
   "display_name": "igwn-py39",
   "language": "python",
   "name": "igwn-py39"
  },
  "language_info": {
   "codemirror_mode": {
    "name": "ipython",
    "version": 3
   },
   "file_extension": ".py",
   "mimetype": "text/x-python",
   "name": "python",
   "nbconvert_exporter": "python",
   "pygments_lexer": "ipython3",
   "version": "3.9.7"
  }
 },
 "nbformat": 4,
 "nbformat_minor": 5
}
